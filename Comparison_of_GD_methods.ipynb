{
  "nbformat": 4,
  "nbformat_minor": 0,
  "metadata": {
    "colab": {
      "provenance": [],
      "toc_visible": true,
      "authorship_tag": "ABX9TyPpWxrGFQr78Zv6hcUBAvXQ",
      "include_colab_link": true
    },
    "kernelspec": {
      "name": "python3",
      "display_name": "Python 3"
    },
    "language_info": {
      "name": "python"
    }
  },
  "cells": [
    {
      "cell_type": "markdown",
      "metadata": {
        "id": "view-in-github",
        "colab_type": "text"
      },
      "source": [
        "<a href=\"https://colab.research.google.com/github/Summit2/ML_education/blob/main/Comparison_of_GD_methods.ipynb\" target=\"_parent\"><img src=\"https://colab.research.google.com/assets/colab-badge.svg\" alt=\"Open In Colab\"/></a>"
      ]
    },
    {
      "cell_type": "code",
      "execution_count": 3,
      "metadata": {
        "id": "NrMCPoUPWgqR"
      },
      "outputs": [],
      "source": [
        "import numpy as np\n",
        "\n",
        "import seaborn as sns\n",
        "sns.set(style=\"darkgrid\", font_scale=1.4)\n",
        "from matplotlib import pyplot as plt\n",
        "\n",
        "from sklearn.model_selection import train_test_split\n",
        "\n",
        "import torch\n",
        "from torch import nn\n",
        "from torch.nn import functional as F\n",
        "\n",
        "from torch.utils.data import TensorDataset, DataLoader\n",
        "\n",
        "from torchvision.datasets import MNIST\n",
        "from torchvision import transforms\n"
      ]
    },
    {
      "cell_type": "code",
      "source": [
        "data_transforms = transforms.Compose(\n",
        "    [\n",
        "     transforms.ToTensor(),\n",
        "     transforms.Normalize((0.5),(0.5))\n",
        "\n",
        "    ]\n",
        "\n",
        ")"
      ],
      "metadata": {
        "id": "Mn9VtdVVWvUb"
      },
      "execution_count": 5,
      "outputs": []
    },
    {
      "cell_type": "code",
      "source": [
        "root = './'\n",
        "train_dataset = MNIST(root, transform=data_transforms, download = True)\n",
        "val_dataset = MNIST(root, transform=data_transforms,download = True)\n",
        "\n",
        "train_dataloader = DataLoader(train_dataset, batch_size = 128)\n",
        "val_dataloader =  DataLoader(val_dataset, batch_size = 128)\n",
        "\n",
        "loaders = {'train' : train_dataloader,\n",
        "           'valid' : val_dataloader }"
      ],
      "metadata": {
        "id": "ah77PO-sZiYP"
      },
      "execution_count": 9,
      "outputs": []
    },
    {
      "cell_type": "code",
      "source": [
        "# aka LeNet\n",
        "LeNet = nn.Sequential(\n",
        "    nn.Conv2d(1,6,3),\n",
        "    nn.ReLU(),\n",
        "    nn.MaxPool2d(2),\n",
        "    nn.Conv2d(6,16,3),\n",
        "    nn.ReLU(),\n",
        "    nn.Flatten(),\n",
        "    nn.Linear(400,120),\n",
        "    nn.ReLU(),\n",
        "    nn.Linear(120,84),\n",
        "    nn.ReLU(),\n",
        "    nn.Linear(84,10)\n",
        "\n",
        ")\n"
      ],
      "metadata": {
        "id": "5kgLij0TayW-"
      },
      "execution_count": 11,
      "outputs": []
    },
    {
      "cell_type": "code",
      "source": [
        "  device = 'cuda' if torch.cuda.is_available() else 'cpu'\n",
        "  device"
      ],
      "metadata": {
        "colab": {
          "base_uri": "https://localhost:8080/",
          "height": 38
        },
        "id": "-xPvXZfreSh7",
        "outputId": "bab94398-f828-44fe-f1ba-0aef0078a0f1"
      },
      "execution_count": 12,
      "outputs": [
        {
          "output_type": "execute_result",
          "data": {
            "text/plain": [
              "'cpu'"
            ],
            "application/vnd.google.colaboratory.intrinsic+json": {
              "type": "string"
            }
          },
          "metadata": {},
          "execution_count": 12
        }
      ]
    },
    {
      "cell_type": "code",
      "source": [
        "def train_loop(optimizer):\n",
        "  model = LeNet()\n",
        "  criterion = torch.nn.CrossEntropyLoss()\n",
        "  optimizer = optimizer\n",
        "\n",
        "  max_epochs = 10\n",
        "  accuracy = {\"train\": [], \"valid\": []}"
      ],
      "metadata": {
        "id": "Uf5JAHcRed6j"
      },
      "execution_count": 13,
      "outputs": []
    }
  ]
}