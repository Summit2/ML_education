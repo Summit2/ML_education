{
  "nbformat": 4,
  "nbformat_minor": 0,
  "metadata": {
    "colab": {
      "provenance": [],
      "gpuType": "T4",
      "authorship_tag": "ABX9TyOFLDG1g2D9nfeR7XV6Yj6l",
      "include_colab_link": true
    },
    "kernelspec": {
      "name": "python3",
      "display_name": "Python 3"
    },
    "language_info": {
      "name": "python"
    },
    "accelerator": "GPU"
  },
  "cells": [
    {
      "cell_type": "markdown",
      "metadata": {
        "id": "view-in-github",
        "colab_type": "text"
      },
      "source": [
        "<a href=\"https://colab.research.google.com/github/Summit2/ML_education/blob/main/Comparison_of_GD_methods.ipynb\" target=\"_parent\"><img src=\"https://colab.research.google.com/assets/colab-badge.svg\" alt=\"Open In Colab\"/></a>"
      ]
    },
    {
      "cell_type": "code",
      "execution_count": 1,
      "metadata": {
        "colab": {
          "base_uri": "https://localhost:8080/"
        },
        "id": "NrMCPoUPWgqR",
        "outputId": "117aae23-1f14-4b86-ae7e-efb38146223c"
      },
      "outputs": [
        {
          "output_type": "stream",
          "name": "stderr",
          "text": [
            "<ipython-input-1-a486a786c1f7>:17: TqdmExperimentalWarning: Using `tqdm.autonotebook.tqdm` in notebook mode. Use `tqdm.tqdm` instead to force console mode (e.g. in jupyter console)\n",
            "  from tqdm.autonotebook import tqdm, trange\n"
          ]
        }
      ],
      "source": [
        "import numpy as np\n",
        "\n",
        "import seaborn as sns\n",
        "sns.set(style=\"darkgrid\", font_scale=1.4)\n",
        "from matplotlib import pyplot as plt\n",
        "\n",
        "from sklearn.model_selection import train_test_split\n",
        "\n",
        "import torch\n",
        "from torch import nn\n",
        "from torch.nn import functional as F\n",
        "\n",
        "from torch.utils.data import TensorDataset, DataLoader\n",
        "\n",
        "from torchvision.datasets import MNIST\n",
        "from torchvision import transforms\n",
        "from tqdm.autonotebook import tqdm, trange"
      ]
    },
    {
      "cell_type": "code",
      "source": [
        "data_transforms = transforms.Compose(\n",
        "    [\n",
        "     transforms.ToTensor(),\n",
        "     transforms.Normalize((0.5),(0.5))\n",
        "\n",
        "    ]\n",
        "\n",
        ")"
      ],
      "metadata": {
        "id": "Mn9VtdVVWvUb"
      },
      "execution_count": 2,
      "outputs": []
    },
    {
      "cell_type": "code",
      "source": [
        "root = './'\n",
        "train_dataset = MNIST(root, transform=data_transforms, download = True)\n",
        "val_dataset = MNIST(root, transform=data_transforms,download = True)\n",
        "\n",
        "train_dataloader = DataLoader(train_dataset, batch_size = 128)\n",
        "val_dataloader =  DataLoader(val_dataset, batch_size = 128)\n",
        "\n",
        "loaders = {'train' : train_dataloader,\n",
        "           'valid' : val_dataloader }"
      ],
      "metadata": {
        "colab": {
          "base_uri": "https://localhost:8080/"
        },
        "id": "ah77PO-sZiYP",
        "outputId": "80545e85-1e43-49e2-b3f0-7b19464ebd69"
      },
      "execution_count": 3,
      "outputs": [
        {
          "output_type": "stream",
          "name": "stdout",
          "text": [
            "Downloading http://yann.lecun.com/exdb/mnist/train-images-idx3-ubyte.gz\n",
            "Downloading http://yann.lecun.com/exdb/mnist/train-images-idx3-ubyte.gz to ./MNIST/raw/train-images-idx3-ubyte.gz\n"
          ]
        },
        {
          "output_type": "stream",
          "name": "stderr",
          "text": [
            "100%|██████████| 9912422/9912422 [00:00<00:00, 104624832.32it/s]\n"
          ]
        },
        {
          "output_type": "stream",
          "name": "stdout",
          "text": [
            "Extracting ./MNIST/raw/train-images-idx3-ubyte.gz to ./MNIST/raw\n",
            "\n",
            "Downloading http://yann.lecun.com/exdb/mnist/train-labels-idx1-ubyte.gz\n",
            "Downloading http://yann.lecun.com/exdb/mnist/train-labels-idx1-ubyte.gz to ./MNIST/raw/train-labels-idx1-ubyte.gz\n"
          ]
        },
        {
          "output_type": "stream",
          "name": "stderr",
          "text": [
            "100%|██████████| 28881/28881 [00:00<00:00, 114603305.42it/s]\n"
          ]
        },
        {
          "output_type": "stream",
          "name": "stdout",
          "text": [
            "Extracting ./MNIST/raw/train-labels-idx1-ubyte.gz to ./MNIST/raw\n",
            "\n",
            "Downloading http://yann.lecun.com/exdb/mnist/t10k-images-idx3-ubyte.gz\n",
            "Downloading http://yann.lecun.com/exdb/mnist/t10k-images-idx3-ubyte.gz to ./MNIST/raw/t10k-images-idx3-ubyte.gz\n"
          ]
        },
        {
          "output_type": "stream",
          "name": "stderr",
          "text": [
            "100%|██████████| 1648877/1648877 [00:00<00:00, 29611910.87it/s]\n"
          ]
        },
        {
          "output_type": "stream",
          "name": "stdout",
          "text": [
            "Extracting ./MNIST/raw/t10k-images-idx3-ubyte.gz to ./MNIST/raw\n",
            "\n",
            "Downloading http://yann.lecun.com/exdb/mnist/t10k-labels-idx1-ubyte.gz\n",
            "Downloading http://yann.lecun.com/exdb/mnist/t10k-labels-idx1-ubyte.gz to ./MNIST/raw/t10k-labels-idx1-ubyte.gz\n"
          ]
        },
        {
          "output_type": "stream",
          "name": "stderr",
          "text": [
            "100%|██████████| 4542/4542 [00:00<00:00, 18370808.84it/s]\n"
          ]
        },
        {
          "output_type": "stream",
          "name": "stdout",
          "text": [
            "Extracting ./MNIST/raw/t10k-labels-idx1-ubyte.gz to ./MNIST/raw\n",
            "\n"
          ]
        }
      ]
    },
    {
      "cell_type": "code",
      "source": [
        "\n",
        "class LeNet (nn.Module):\n",
        "  def __init__(self):\n",
        "      super(LeNet, self).__init__()\n",
        "\n",
        "      self.conv1 = nn.Conv2d(1,6,3)\n",
        "\n",
        "      self.pool1 = nn.MaxPool2d(2)\n",
        "      self.conv2 = nn.Conv2d(6,16,3)\n",
        "\n",
        "\n",
        "      self.fc1 = nn.Linear(1936,120)\n",
        "\n",
        "      self.fc2 = nn.Linear(120,84)\n",
        "\n",
        "      self.fc3 = nn.Linear(84,10)\n",
        "\n",
        "      self.activation = nn.ReLU(inplace=True)\n",
        "\n",
        "  def forward(self,x):\n",
        "      x = self.activation(self.conv1(x))\n",
        "      # print(x)\n",
        "      x = self.pool1(x)\n",
        "      x = self.activation(self.conv2(x))\n",
        "\n",
        "      x = torch.flatten(x, start_dim = 1)\n",
        "      x = self.activation(self.fc1(x))\n",
        "      x = self.activation(self.fc2(x))\n",
        "      x = self.fc3(x)\n",
        "\n",
        "      return x\n",
        "\n"
      ],
      "metadata": {
        "id": "5kgLij0TayW-"
      },
      "execution_count": 4,
      "outputs": []
    },
    {
      "cell_type": "code",
      "source": [
        "LeNet()\n",
        "# train_loop(optimizer)"
      ],
      "metadata": {
        "colab": {
          "base_uri": "https://localhost:8080/"
        },
        "id": "-xPvXZfreSh7",
        "outputId": "eb337bec-782a-46c0-d4a8-030b3fc6356b"
      },
      "execution_count": 5,
      "outputs": [
        {
          "output_type": "execute_result",
          "data": {
            "text/plain": [
              "LeNet(\n",
              "  (conv1): Conv2d(1, 6, kernel_size=(3, 3), stride=(1, 1))\n",
              "  (pool1): MaxPool2d(kernel_size=2, stride=2, padding=0, dilation=1, ceil_mode=False)\n",
              "  (conv2): Conv2d(6, 16, kernel_size=(3, 3), stride=(1, 1))\n",
              "  (fc1): Linear(in_features=1936, out_features=120, bias=True)\n",
              "  (fc2): Linear(in_features=120, out_features=84, bias=True)\n",
              "  (fc3): Linear(in_features=84, out_features=10, bias=True)\n",
              "  (activation): ReLU(inplace=True)\n",
              ")"
            ]
          },
          "metadata": {},
          "execution_count": 5
        }
      ]
    },
    {
      "cell_type": "code",
      "source": [
        "def train_loop(model, optim):\n",
        "\n",
        "  device = 'cuda' if torch.cuda.is_available() else 'cpu'\n",
        "\n",
        "  model = model\n",
        "  model = model.to(device)\n",
        "\n",
        "  criterion = torch.nn.CrossEntropyLoss()\n",
        "\n",
        "\n",
        "  max_epochs = 10\n",
        "  accuracy = {\"train\": [], \"valid\": []}\n",
        "\n",
        "\n",
        "\n",
        "  for epoch in range(max_epochs):\n",
        "    for k, dataloader in loaders.items():\n",
        "      epoch_correct = 0\n",
        "      epoch_all = 0\n",
        "      for x_batch, y_batch in dataloader:\n",
        "        x_batch, y_batch = x_batch.to(device) ,y_batch.to(device)\n",
        "        # print(type(x_batch))\n",
        "\n",
        "        if k == \"train\":\n",
        "\n",
        "            model.train()\n",
        "            optimizer.zero_grad()\n",
        "            # print((x_batch).size())\n",
        "            outp = model(x_batch)\n",
        "\n",
        "            loss = criterion(outp, y_batch)\n",
        "            loss.backward()\n",
        "            optimizer.step()\n",
        "\n",
        "\n",
        "        elif k == \"valid\":\n",
        "          model.eval()\n",
        "          with torch.no_grad():\n",
        "            outp = model(x_batch)\n",
        "\n",
        "        #посчитаем accuracy\n",
        "        predictions = outp.argmax(-1)\n",
        "        # print(predictions)\n",
        "\n",
        "\n",
        "        all = 128\n",
        "        correct = (predictions.cpu().detach().numpy() == y_batch.cpu().detach().numpy()).sum()\n",
        "\n",
        "        epoch_all +=all\n",
        "        epoch_correct+=correct\n",
        "\n",
        "        # print(correct_answers)\n",
        "      if k == 'train':\n",
        "\n",
        "          print(f\"Epoch {epoch+1}\")\n",
        "\n",
        "      print(f\"State: {k}  Accuracy = {epoch_correct/epoch_all}\")\n",
        "      accuracy[k].append(epoch_correct/epoch_all)\n",
        "  return accuracy\n"
      ],
      "metadata": {
        "id": "Uf5JAHcRed6j"
      },
      "execution_count": 11,
      "outputs": []
    },
    {
      "cell_type": "code",
      "source": [
        "model = LeNet()"
      ],
      "metadata": {
        "id": "isgMJhMEUFkc"
      },
      "execution_count": null,
      "outputs": []
    },
    {
      "cell_type": "code",
      "source": [
        "\n",
        "\n",
        "optimizer = torch.optim.SGD(params = model.parameters(), lr=0.01)\n",
        "SGD_accuracy = train_loop(model,optimizer)\n"
      ],
      "metadata": {
        "colab": {
          "base_uri": "https://localhost:8080/"
        },
        "id": "wHDJKdlSELXf",
        "outputId": "bdfcadce-7fa3-4d90-eaf4-44d3cff0df8e"
      },
      "execution_count": 13,
      "outputs": [
        {
          "output_type": "stream",
          "name": "stdout",
          "text": [
            "Epoch 1\n",
            "State: train  Accuracy = 0.9702492004264393\n",
            "State: valid  Accuracy = 0.9699493603411514\n",
            "Epoch 2\n",
            "State: train  Accuracy = 0.9733142324093816\n",
            "State: valid  Accuracy = 0.9734974680170576\n",
            "Epoch 3\n",
            "State: train  Accuracy = 0.9754131130063965\n",
            "State: valid  Accuracy = 0.9756629797441365\n",
            "Epoch 4\n",
            "State: train  Accuracy = 0.9773454157782516\n",
            "State: valid  Accuracy = 0.9774620202558635\n",
            "Epoch 5\n",
            "State: train  Accuracy = 0.9786780383795309\n",
            "State: valid  Accuracy = 0.9790445095948828\n",
            "Epoch 6\n",
            "State: train  Accuracy = 0.9796941631130064\n",
            "State: valid  Accuracy = 0.98042710554371\n",
            "Epoch 7\n",
            "State: train  Accuracy = 0.9807602611940298\n",
            "State: valid  Accuracy = 0.9813932569296375\n",
            "Epoch 8\n",
            "State: train  Accuracy = 0.9817264125799574\n",
            "State: valid  Accuracy = 0.982376066098081\n",
            "Epoch 9\n",
            "State: train  Accuracy = 0.9826925639658849\n",
            "State: valid  Accuracy = 0.9830923507462687\n",
            "Epoch 10\n",
            "State: train  Accuracy = 0.9834088486140725\n",
            "State: valid  Accuracy = 0.9838252931769723\n"
          ]
        }
      ]
    },
    {
      "cell_type": "code",
      "source": [
        "optimizer = torch.optim.Adagrad(params = model.parameters())\n",
        "Adagrad_accuracy = train_loop(model,optimizer)"
      ],
      "metadata": {
        "colab": {
          "base_uri": "https://localhost:8080/"
        },
        "id": "hqnlQZUdTeyD",
        "outputId": "6260be59-34ad-4fb7-b743-fc95d5d5492d"
      },
      "execution_count": 14,
      "outputs": [
        {
          "output_type": "stream",
          "name": "stdout",
          "text": [
            "Epoch 1\n",
            "State: train  Accuracy = 0.9471281982942431\n",
            "State: valid  Accuracy = 0.9692997068230277\n",
            "Epoch 2\n",
            "State: train  Accuracy = 0.9780617004264393\n",
            "State: valid  Accuracy = 0.978494802771855\n",
            "Epoch 3\n",
            "State: train  Accuracy = 0.9827258795309168\n",
            "State: valid  Accuracy = 0.9820762260127932\n",
            "Epoch 4\n",
            "State: train  Accuracy = 0.9853744669509595\n",
            "State: valid  Accuracy = 0.9850746268656716\n",
            "Epoch 5\n",
            "State: train  Accuracy = 0.9874233742004265\n",
            "State: valid  Accuracy = 0.9873400852878464\n",
            "Epoch 6\n",
            "State: train  Accuracy = 0.9888392857142857\n",
            "State: valid  Accuracy = 0.9889225746268657\n",
            "Epoch 7\n",
            "State: train  Accuracy = 0.9903218283582089\n",
            "State: valid  Accuracy = 0.990405117270789\n",
            "Epoch 8\n",
            "State: train  Accuracy = 0.9915045309168443\n",
            "State: valid  Accuracy = 0.9913379530916845\n",
            "Epoch 9\n",
            "State: train  Accuracy = 0.9921042110874201\n",
            "State: valid  Accuracy = 0.9919542910447762\n",
            "Epoch 10\n",
            "State: train  Accuracy = 0.9929371002132196\n",
            "State: valid  Accuracy = 0.9925872867803838\n"
          ]
        }
      ]
    },
    {
      "cell_type": "code",
      "source": [
        "optimizer = torch.optim.RMSprop(params = model.parameters())\n",
        "RMSprop_accuracy = train_loop(model,optimizer)"
      ],
      "metadata": {
        "colab": {
          "base_uri": "https://localhost:8080/"
        },
        "id": "rdtum2M3UbaC",
        "outputId": "20203d92-4f31-4992-b3b4-f4b1aca08c99"
      },
      "execution_count": 15,
      "outputs": [
        {
          "output_type": "stream",
          "name": "stdout",
          "text": [
            "Epoch 1\n",
            "State: train  Accuracy = 0.8770489072494669\n",
            "State: valid  Accuracy = 0.9084155117270789\n",
            "Epoch 2\n",
            "State: train  Accuracy = 0.9559734808102346\n",
            "State: valid  Accuracy = 0.9232909115138592\n",
            "Epoch 3\n",
            "State: train  Accuracy = 0.9645688965884861\n",
            "State: valid  Accuracy = 0.8914245735607675\n",
            "Epoch 4\n",
            "State: train  Accuracy = 0.9745802238805971\n",
            "State: valid  Accuracy = 0.9635027985074627\n",
            "Epoch 5\n",
            "State: train  Accuracy = 0.9792277452025586\n",
            "State: valid  Accuracy = 0.9792610607675906\n",
            "Epoch 6\n",
            "State: train  Accuracy = 0.9822761194029851\n",
            "State: valid  Accuracy = 0.9833588752665245\n",
            "Epoch 7\n",
            "State: train  Accuracy = 0.9842917110874201\n",
            "State: valid  Accuracy = 0.972714552238806\n",
            "Epoch 8\n",
            "State: train  Accuracy = 0.9856909648187633\n",
            "State: valid  Accuracy = 0.9655350479744137\n",
            "Epoch 9\n",
            "State: train  Accuracy = 0.9867237473347548\n",
            "State: valid  Accuracy = 0.9829091151385928\n",
            "Epoch 10\n",
            "State: train  Accuracy = 0.9874233742004265\n",
            "State: valid  Accuracy = 0.9834921375266524\n"
          ]
        }
      ]
    },
    {
      "cell_type": "code",
      "source": [
        "optimizer = torch.optim.Adam(params = model.parameters())\n",
        "Adam_accuracy = train_loop(model,optimizer)"
      ],
      "metadata": {
        "colab": {
          "base_uri": "https://localhost:8080/"
        },
        "id": "-cwCKySdTzVc",
        "outputId": "efb4ba23-7831-48c5-e1a0-e93f9c0d0e54"
      },
      "execution_count": 16,
      "outputs": [
        {
          "output_type": "stream",
          "name": "stdout",
          "text": [
            "Epoch 1\n",
            "State: train  Accuracy = 0.9941697761194029\n",
            "State: valid  Accuracy = 0.9965684968017058\n",
            "Epoch 2\n",
            "State: train  Accuracy = 0.9965185234541578\n",
            "State: valid  Accuracy = 0.9978178304904051\n",
            "Epoch 3\n",
            "State: train  Accuracy = 0.9976179371002132\n",
            "State: valid  Accuracy = 0.9981343283582089\n",
            "Epoch 4\n",
            "State: train  Accuracy = 0.998117670575693\n",
            "State: valid  Accuracy = 0.9985341151385928\n",
            "Epoch 5\n",
            "State: train  Accuracy = 0.9984175106609808\n",
            "State: valid  Accuracy = 0.9988672707889126\n",
            "Epoch 6\n",
            "State: train  Accuracy = 0.9987839818763327\n",
            "State: valid  Accuracy = 0.9989339019189766\n",
            "Epoch 7\n",
            "State: train  Accuracy = 0.9989505597014925\n",
            "State: valid  Accuracy = 0.9990171908315565\n",
            "Epoch 8\n",
            "State: train  Accuracy = 0.9990171908315565\n",
            "State: valid  Accuracy = 0.9990338486140725\n",
            "Epoch 9\n",
            "State: train  Accuracy = 0.9991337953091685\n",
            "State: valid  Accuracy = 0.9990171908315565\n",
            "Epoch 10\n",
            "State: train  Accuracy = 0.9987506663113006\n",
            "State: valid  Accuracy = 0.9989005863539445\n"
          ]
        }
      ]
    },
    {
      "cell_type": "code",
      "source": [
        "!nvidia-smi"
      ],
      "metadata": {
        "colab": {
          "base_uri": "https://localhost:8080/"
        },
        "id": "JDF9KbyrWi2d",
        "outputId": "b0df7c6b-5a89-41de-cf2c-2735c6bea513"
      },
      "execution_count": 17,
      "outputs": [
        {
          "output_type": "stream",
          "name": "stdout",
          "text": [
            "Thu Nov  9 09:26:13 2023       \n",
            "+-----------------------------------------------------------------------------+\n",
            "| NVIDIA-SMI 525.105.17   Driver Version: 525.105.17   CUDA Version: 12.0     |\n",
            "|-------------------------------+----------------------+----------------------+\n",
            "| GPU  Name        Persistence-M| Bus-Id        Disp.A | Volatile Uncorr. ECC |\n",
            "| Fan  Temp  Perf  Pwr:Usage/Cap|         Memory-Usage | GPU-Util  Compute M. |\n",
            "|                               |                      |               MIG M. |\n",
            "|===============================+======================+======================|\n",
            "|   0  Tesla T4            Off  | 00000000:00:04.0 Off |                    0 |\n",
            "| N/A   47C    P0    28W /  70W |   1165MiB / 15360MiB |      0%      Default |\n",
            "|                               |                      |                  N/A |\n",
            "+-------------------------------+----------------------+----------------------+\n",
            "                                                                               \n",
            "+-----------------------------------------------------------------------------+\n",
            "| Processes:                                                                  |\n",
            "|  GPU   GI   CI        PID   Type   Process name                  GPU Memory |\n",
            "|        ID   ID                                                   Usage      |\n",
            "|=============================================================================|\n",
            "+-----------------------------------------------------------------------------+\n"
          ]
        }
      ]
    },
    {
      "cell_type": "code",
      "source": [
        "import seaborn as sns\n",
        "\n",
        "sns.set(style=\"whitegrid\", font_scale=1.4)\n",
        "\n",
        "plt.figure(figsize= (16,10))\n",
        "plt.plot(range(10), SGD_accuracy['valid'], label = 'SGD_activation')\n",
        "plt.plot(range(10),Adagrad_accuracy['valid'], label = 'Adagrad_activation')\n",
        "plt.plot(range(10),RMSprop_accuracy['valid'], label = 'RMSprop_activation')\n",
        "plt.plot(range(10),Adam_accuracy['valid'], label = 'Adam_activation')\n",
        "plt.legend()\n",
        "plt.show()"
      ],
      "metadata": {
        "colab": {
          "base_uri": "https://localhost:8080/",
          "height": 704
        },
        "id": "ySlLABhhVdgw",
        "outputId": "57113029-fd06-424e-a340-e89be93e7280"
      },
      "execution_count": 19,
      "outputs": [
        {
          "output_type": "display_data",
          "data": {
            "text/plain": [
              "<Figure size 1600x1000 with 1 Axes>"
            ],
            "image/png": "[encoded data removed]"
          },
          "metadata": {}
        }
      ]
    }
  ]
}